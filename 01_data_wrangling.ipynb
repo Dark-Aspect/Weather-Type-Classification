{
 "cells": [
  {
   "cell_type": "markdown",
   "id": "6cf2ab0d",
   "metadata": {},
   "source": [
    "<div style=\"text-align: center;\">\n",
    "  <img src=\"Images/Weather_Types.png\" alt=\"Weather_Types Illustration\" width=\"600\"/>\n",
    "</div>"
   ]
  },
  {
   "cell_type": "markdown",
   "id": "607a1fe6",
   "metadata": {},
   "source": [
    "## Hello!  \n",
    "\n",
    "This is a project utilizing the **Weather-Type-Classification Database** to analyze and classify weather patterns. By exploring this dataset, we aim to build insights into weather characteristics and develop models for accurate weather classification based on the provided features.  \n",
    "\n",
    "#### About the Dataset  \n",
    "The dataset, available on [Kaggle](https://www.kaggle.com/datasets/nikhil7280/weather-type-classification), contains synthetically generated weather data designed for classification tasks. It includes a wide range of weather-related variables, offering opportunities to practice data preprocessing, feature engineering, and outlier detection. "
   ]
  },
  {
   "cell_type": "markdown",
   "id": "28f68835",
   "metadata": {},
   "source": [
    "#### Dataset Overview  \n",
    "The dataset consists of **13,200 rows** and **11 columns**, structured as follows:  \n",
    "\n",
    "1. **Temperature**: Temperature in degrees Celsius, ranging from extreme cold to extreme heat.  \n",
    "2. **Humidity**: Humidity percentage, including values above 100% to introduce outliers.  \n",
    "3. **Wind Speed**: Wind speed in kilometers per hour, including unrealistically high values.  \n",
    "4. **Precipitation (%)**: Precipitation percentage, with some outlier values.  \n",
    "5. **Cloud Cover**: Description of cloud cover (categorical).  \n",
    "6. **Atmospheric Pressure**: Atmospheric pressure in hPa, covering a wide range.  \n",
    "7. **UV Index**: Strength of ultraviolet radiation (numeric).  \n",
    "8. **Season**: Season during which the data was recorded (categorical).  \n",
    "9. **Visibility (km)**: Visibility in kilometers, with very low or very high values.  \n",
    "10. **Location**: The type of location where the data was recorded (categorical).  \n",
    "11. **Weather Type**: Target variable, classifying weather as Rainy, Sunny, Cloudy, or Snowy.  \n",
    "\n",
    "#### Project Inspiration  \n",
    "This project is inspired by the need to develop robust classification models for weather prediction. By leveraging the **Weather-Type-Classification Database**, we aim to identify key relationships among variables and improve the accuracy of weather categorization.  \n",
    "\n",
    "#### Goals of the Project  \n",
    "1. **Data Analysis**: Explore the dataset to uncover trends and patterns in weather features.  \n",
    "2. **Classification Models**: Develop and evaluate machine learning models to classify weather types based on the provided features.  \n",
    "\n",
    "This project will focus on utilizing the **Weather-Type-Classification Database** to provide valuable insights into weather data and enhance classification strategies for weather-related applications.\n",
    "\n",
    "> ⚠️ *Note*: Although the data is synthetic, it serves as a useful proxy for learning data preprocessing, outlier detection, and classification modeling techniques."
   ]
  },
  {
   "cell_type": "code",
   "execution_count": null,
   "id": "7254fee6",
   "metadata": {},
   "outputs": [],
   "source": []
  },
  {
   "cell_type": "markdown",
   "id": "269889bd",
   "metadata": {},
   "source": [
    "# **Step 1: Data Wrangling**\n",
    "\n",
    "This notebook covers the **data wrangling and preprocessing phase** of the Weather-Type Classification project. The goal is to clean, transform, and prepare the raw weather dataset for exploratory data analysis (EDA) and classification modeling.\n",
    "\n",
    "---\n",
    "\n",
    "### Objectives of This Notebook\n",
    "\n",
    "1. [Import Libraries and Load the Dataset](#import)  \n",
    "2. [Initial Inspection](#inspection)  \n",
    "3. [Handle Missing Values](#missing)  \n",
    "4. [Remove Duplicate Records](#duplicates)  \n",
    "5. [Rename Columns for Consistency](#rename)  \n",
    "6. [Feature Engineering](#features)  \n",
    "7. [Save the Cleaned Dataset](#save)\n",
    "\n",
    "--- \n",
    "\n",
    "### Next Steps\n",
    "\n",
    "- Step 2: [Exploratory Data Analysis (EDA) – Visual](./02_eda_visualization.ipynb)\n",
    "- Step 3: [EDA – SQL Queries](./03_eda_sql_queries.ipynb)\n",
    "- Step 4: [Modeling & Prediction](./04_modeling_prediction.ipynb)"
   ]
  },
  {
   "cell_type": "code",
   "execution_count": null,
   "id": "18517e77",
   "metadata": {},
   "outputs": [],
   "source": []
  },
  {
   "cell_type": "markdown",
   "id": "1a057a9b",
   "metadata": {},
   "source": [
    "---"
   ]
  },
  {
   "cell_type": "markdown",
   "id": "9b8e66d7",
   "metadata": {},
   "source": [
    "<a id=\"import\"></a>\n",
    "\n",
    "## **1.1 Import Libraries and Load the Dataset**\n",
    "\n",
    "We start by importing the necessary Python libraries and loading the dataset into a DataFrame."
   ]
  },
  {
   "cell_type": "code",
   "execution_count": 1,
   "id": "7d1c6fce",
   "metadata": {},
   "outputs": [],
   "source": [
    "# Pandas is a software library written for the Python programming language for data manipulation and analysis.\n",
    "import pandas as pd\n",
    "\n",
    "# NumPy is a Python library that supports fast operations on large, multi-dimensional arrays and provides a wide range of mathematical functions.\n",
    "import numpy as np\n",
    "\n",
    "# Import display function to render DataFrames or outputs neatly in the notebook\n",
    "from IPython.display import display"
   ]
  },
  {
   "cell_type": "code",
   "execution_count": 2,
   "id": "127ff17a",
   "metadata": {},
   "outputs": [
    {
     "name": "stdout",
     "output_type": "stream",
     "text": [
      "Previewing the raw dataset:\n"
     ]
    },
    {
     "data": {
      "text/html": [
       "<div>\n",
       "<style scoped>\n",
       "    .dataframe tbody tr th:only-of-type {\n",
       "        vertical-align: middle;\n",
       "    }\n",
       "\n",
       "    .dataframe tbody tr th {\n",
       "        vertical-align: top;\n",
       "    }\n",
       "\n",
       "    .dataframe thead th {\n",
       "        text-align: right;\n",
       "    }\n",
       "</style>\n",
       "<table border=\"1\" class=\"dataframe\">\n",
       "  <thead>\n",
       "    <tr style=\"text-align: right;\">\n",
       "      <th></th>\n",
       "      <th>Temperature</th>\n",
       "      <th>Humidity</th>\n",
       "      <th>Wind Speed</th>\n",
       "      <th>Precipitation (%)</th>\n",
       "      <th>Cloud Cover</th>\n",
       "      <th>Atmospheric Pressure</th>\n",
       "      <th>UV Index</th>\n",
       "      <th>Season</th>\n",
       "      <th>Visibility (km)</th>\n",
       "      <th>Location</th>\n",
       "      <th>Weather Type</th>\n",
       "    </tr>\n",
       "  </thead>\n",
       "  <tbody>\n",
       "    <tr>\n",
       "      <th>0</th>\n",
       "      <td>14.0</td>\n",
       "      <td>73</td>\n",
       "      <td>9.5</td>\n",
       "      <td>82.0</td>\n",
       "      <td>partly cloudy</td>\n",
       "      <td>1010.82</td>\n",
       "      <td>2</td>\n",
       "      <td>Winter</td>\n",
       "      <td>3.5</td>\n",
       "      <td>inland</td>\n",
       "      <td>Rainy</td>\n",
       "    </tr>\n",
       "    <tr>\n",
       "      <th>1</th>\n",
       "      <td>39.0</td>\n",
       "      <td>96</td>\n",
       "      <td>8.5</td>\n",
       "      <td>71.0</td>\n",
       "      <td>partly cloudy</td>\n",
       "      <td>1011.43</td>\n",
       "      <td>7</td>\n",
       "      <td>Spring</td>\n",
       "      <td>10.0</td>\n",
       "      <td>inland</td>\n",
       "      <td>Cloudy</td>\n",
       "    </tr>\n",
       "    <tr>\n",
       "      <th>2</th>\n",
       "      <td>30.0</td>\n",
       "      <td>64</td>\n",
       "      <td>7.0</td>\n",
       "      <td>16.0</td>\n",
       "      <td>clear</td>\n",
       "      <td>1018.72</td>\n",
       "      <td>5</td>\n",
       "      <td>Spring</td>\n",
       "      <td>5.5</td>\n",
       "      <td>mountain</td>\n",
       "      <td>Sunny</td>\n",
       "    </tr>\n",
       "    <tr>\n",
       "      <th>3</th>\n",
       "      <td>38.0</td>\n",
       "      <td>83</td>\n",
       "      <td>1.5</td>\n",
       "      <td>82.0</td>\n",
       "      <td>clear</td>\n",
       "      <td>1026.25</td>\n",
       "      <td>7</td>\n",
       "      <td>Spring</td>\n",
       "      <td>1.0</td>\n",
       "      <td>coastal</td>\n",
       "      <td>Sunny</td>\n",
       "    </tr>\n",
       "    <tr>\n",
       "      <th>4</th>\n",
       "      <td>27.0</td>\n",
       "      <td>74</td>\n",
       "      <td>17.0</td>\n",
       "      <td>66.0</td>\n",
       "      <td>overcast</td>\n",
       "      <td>990.67</td>\n",
       "      <td>1</td>\n",
       "      <td>Winter</td>\n",
       "      <td>2.5</td>\n",
       "      <td>mountain</td>\n",
       "      <td>Rainy</td>\n",
       "    </tr>\n",
       "  </tbody>\n",
       "</table>\n",
       "</div>"
      ],
      "text/plain": [
       "   Temperature  Humidity  Wind Speed  Precipitation (%)    Cloud Cover  \\\n",
       "0         14.0        73         9.5               82.0  partly cloudy   \n",
       "1         39.0        96         8.5               71.0  partly cloudy   \n",
       "2         30.0        64         7.0               16.0          clear   \n",
       "3         38.0        83         1.5               82.0          clear   \n",
       "4         27.0        74        17.0               66.0       overcast   \n",
       "\n",
       "   Atmospheric Pressure  UV Index  Season  Visibility (km)  Location  \\\n",
       "0               1010.82         2  Winter              3.5    inland   \n",
       "1               1011.43         7  Spring             10.0    inland   \n",
       "2               1018.72         5  Spring              5.5  mountain   \n",
       "3               1026.25         7  Spring              1.0   coastal   \n",
       "4                990.67         1  Winter              2.5  mountain   \n",
       "\n",
       "  Weather Type  \n",
       "0        Rainy  \n",
       "1       Cloudy  \n",
       "2        Sunny  \n",
       "3        Sunny  \n",
       "4        Rainy  "
      ]
     },
     "metadata": {},
     "output_type": "display_data"
    }
   ],
   "source": [
    "# Load the dataset\n",
    "print(\"Previewing the raw dataset:\")\n",
    "df = pd.read_csv('weather_classification_data.csv')\n",
    "display(df.head())"
   ]
  },
  {
   "cell_type": "markdown",
   "id": "acaf0a38",
   "metadata": {},
   "source": [
    "---"
   ]
  },
  {
   "cell_type": "markdown",
   "id": "5aac143f",
   "metadata": {},
   "source": [
    "<a id=\"inspection\"></a>\n",
    "\n",
    "## **1.2 Initial Inspection**\n",
    "\n",
    "We inspect the structure, data types, and basic info of the dataset."
   ]
  },
  {
   "cell_type": "code",
   "execution_count": 3,
   "id": "25efe7d8",
   "metadata": {},
   "outputs": [
    {
     "name": "stdout",
     "output_type": "stream",
     "text": [
      "Dataset Info:\n",
      "<class 'pandas.core.frame.DataFrame'>\n",
      "RangeIndex: 13200 entries, 0 to 13199\n",
      "Data columns (total 11 columns):\n",
      " #   Column                Non-Null Count  Dtype  \n",
      "---  ------                --------------  -----  \n",
      " 0   Temperature           13200 non-null  float64\n",
      " 1   Humidity              13200 non-null  int64  \n",
      " 2   Wind Speed            13200 non-null  float64\n",
      " 3   Precipitation (%)     13200 non-null  float64\n",
      " 4   Cloud Cover           13200 non-null  object \n",
      " 5   Atmospheric Pressure  13200 non-null  float64\n",
      " 6   UV Index              13200 non-null  int64  \n",
      " 7   Season                13200 non-null  object \n",
      " 8   Visibility (km)       13200 non-null  float64\n",
      " 9   Location              13200 non-null  object \n",
      " 10  Weather Type          13200 non-null  object \n",
      "dtypes: float64(5), int64(2), object(4)\n",
      "memory usage: 1.1+ MB\n"
     ]
    },
    {
     "data": {
      "text/plain": [
       "None"
      ]
     },
     "metadata": {},
     "output_type": "display_data"
    }
   ],
   "source": [
    "# Display basic structure of the dataset\n",
    "print(\"Dataset Info:\")\n",
    "display(df.info())"
   ]
  },
  {
   "cell_type": "code",
   "execution_count": 4,
   "id": "8715f2e2",
   "metadata": {},
   "outputs": [
    {
     "name": "stdout",
     "output_type": "stream",
     "text": [
      "Numerical Summary:\n"
     ]
    },
    {
     "data": {
      "text/html": [
       "<div>\n",
       "<style scoped>\n",
       "    .dataframe tbody tr th:only-of-type {\n",
       "        vertical-align: middle;\n",
       "    }\n",
       "\n",
       "    .dataframe tbody tr th {\n",
       "        vertical-align: top;\n",
       "    }\n",
       "\n",
       "    .dataframe thead th {\n",
       "        text-align: right;\n",
       "    }\n",
       "</style>\n",
       "<table border=\"1\" class=\"dataframe\">\n",
       "  <thead>\n",
       "    <tr style=\"text-align: right;\">\n",
       "      <th></th>\n",
       "      <th>Temperature</th>\n",
       "      <th>Humidity</th>\n",
       "      <th>Wind Speed</th>\n",
       "      <th>Precipitation (%)</th>\n",
       "      <th>Atmospheric Pressure</th>\n",
       "      <th>UV Index</th>\n",
       "      <th>Visibility (km)</th>\n",
       "    </tr>\n",
       "  </thead>\n",
       "  <tbody>\n",
       "    <tr>\n",
       "      <th>count</th>\n",
       "      <td>13200.000000</td>\n",
       "      <td>13200.000000</td>\n",
       "      <td>13200.000000</td>\n",
       "      <td>13200.000000</td>\n",
       "      <td>13200.000000</td>\n",
       "      <td>13200.000000</td>\n",
       "      <td>13200.000000</td>\n",
       "    </tr>\n",
       "    <tr>\n",
       "      <th>mean</th>\n",
       "      <td>19.127576</td>\n",
       "      <td>68.710833</td>\n",
       "      <td>9.832197</td>\n",
       "      <td>53.644394</td>\n",
       "      <td>1005.827896</td>\n",
       "      <td>4.005758</td>\n",
       "      <td>5.462917</td>\n",
       "    </tr>\n",
       "    <tr>\n",
       "      <th>std</th>\n",
       "      <td>17.386327</td>\n",
       "      <td>20.194248</td>\n",
       "      <td>6.908704</td>\n",
       "      <td>31.946541</td>\n",
       "      <td>37.199589</td>\n",
       "      <td>3.856600</td>\n",
       "      <td>3.371499</td>\n",
       "    </tr>\n",
       "    <tr>\n",
       "      <th>min</th>\n",
       "      <td>-25.000000</td>\n",
       "      <td>20.000000</td>\n",
       "      <td>0.000000</td>\n",
       "      <td>0.000000</td>\n",
       "      <td>800.120000</td>\n",
       "      <td>0.000000</td>\n",
       "      <td>0.000000</td>\n",
       "    </tr>\n",
       "    <tr>\n",
       "      <th>25%</th>\n",
       "      <td>4.000000</td>\n",
       "      <td>57.000000</td>\n",
       "      <td>5.000000</td>\n",
       "      <td>19.000000</td>\n",
       "      <td>994.800000</td>\n",
       "      <td>1.000000</td>\n",
       "      <td>3.000000</td>\n",
       "    </tr>\n",
       "    <tr>\n",
       "      <th>50%</th>\n",
       "      <td>21.000000</td>\n",
       "      <td>70.000000</td>\n",
       "      <td>9.000000</td>\n",
       "      <td>58.000000</td>\n",
       "      <td>1007.650000</td>\n",
       "      <td>3.000000</td>\n",
       "      <td>5.000000</td>\n",
       "    </tr>\n",
       "    <tr>\n",
       "      <th>75%</th>\n",
       "      <td>31.000000</td>\n",
       "      <td>84.000000</td>\n",
       "      <td>13.500000</td>\n",
       "      <td>82.000000</td>\n",
       "      <td>1016.772500</td>\n",
       "      <td>7.000000</td>\n",
       "      <td>7.500000</td>\n",
       "    </tr>\n",
       "    <tr>\n",
       "      <th>max</th>\n",
       "      <td>109.000000</td>\n",
       "      <td>109.000000</td>\n",
       "      <td>48.500000</td>\n",
       "      <td>109.000000</td>\n",
       "      <td>1199.210000</td>\n",
       "      <td>14.000000</td>\n",
       "      <td>20.000000</td>\n",
       "    </tr>\n",
       "  </tbody>\n",
       "</table>\n",
       "</div>"
      ],
      "text/plain": [
       "        Temperature      Humidity    Wind Speed  Precipitation (%)  \\\n",
       "count  13200.000000  13200.000000  13200.000000       13200.000000   \n",
       "mean      19.127576     68.710833      9.832197          53.644394   \n",
       "std       17.386327     20.194248      6.908704          31.946541   \n",
       "min      -25.000000     20.000000      0.000000           0.000000   \n",
       "25%        4.000000     57.000000      5.000000          19.000000   \n",
       "50%       21.000000     70.000000      9.000000          58.000000   \n",
       "75%       31.000000     84.000000     13.500000          82.000000   \n",
       "max      109.000000    109.000000     48.500000         109.000000   \n",
       "\n",
       "       Atmospheric Pressure      UV Index  Visibility (km)  \n",
       "count          13200.000000  13200.000000     13200.000000  \n",
       "mean            1005.827896      4.005758         5.462917  \n",
       "std               37.199589      3.856600         3.371499  \n",
       "min              800.120000      0.000000         0.000000  \n",
       "25%              994.800000      1.000000         3.000000  \n",
       "50%             1007.650000      3.000000         5.000000  \n",
       "75%             1016.772500      7.000000         7.500000  \n",
       "max             1199.210000     14.000000        20.000000  "
      ]
     },
     "metadata": {},
     "output_type": "display_data"
    }
   ],
   "source": [
    "# Summary statistics for numerical columns\n",
    "print(\"Numerical Summary:\")\n",
    "display(df.describe())"
   ]
  },
  {
   "cell_type": "code",
   "execution_count": 5,
   "id": "16758e03",
   "metadata": {},
   "outputs": [
    {
     "name": "stdout",
     "output_type": "stream",
     "text": [
      "Categorical Summary:\n"
     ]
    },
    {
     "data": {
      "text/html": [
       "<div>\n",
       "<style scoped>\n",
       "    .dataframe tbody tr th:only-of-type {\n",
       "        vertical-align: middle;\n",
       "    }\n",
       "\n",
       "    .dataframe tbody tr th {\n",
       "        vertical-align: top;\n",
       "    }\n",
       "\n",
       "    .dataframe thead th {\n",
       "        text-align: right;\n",
       "    }\n",
       "</style>\n",
       "<table border=\"1\" class=\"dataframe\">\n",
       "  <thead>\n",
       "    <tr style=\"text-align: right;\">\n",
       "      <th></th>\n",
       "      <th>Cloud Cover</th>\n",
       "      <th>Season</th>\n",
       "      <th>Location</th>\n",
       "      <th>Weather Type</th>\n",
       "    </tr>\n",
       "  </thead>\n",
       "  <tbody>\n",
       "    <tr>\n",
       "      <th>count</th>\n",
       "      <td>13200</td>\n",
       "      <td>13200</td>\n",
       "      <td>13200</td>\n",
       "      <td>13200</td>\n",
       "    </tr>\n",
       "    <tr>\n",
       "      <th>unique</th>\n",
       "      <td>4</td>\n",
       "      <td>4</td>\n",
       "      <td>3</td>\n",
       "      <td>4</td>\n",
       "    </tr>\n",
       "    <tr>\n",
       "      <th>top</th>\n",
       "      <td>overcast</td>\n",
       "      <td>Winter</td>\n",
       "      <td>inland</td>\n",
       "      <td>Rainy</td>\n",
       "    </tr>\n",
       "    <tr>\n",
       "      <th>freq</th>\n",
       "      <td>6090</td>\n",
       "      <td>5610</td>\n",
       "      <td>4816</td>\n",
       "      <td>3300</td>\n",
       "    </tr>\n",
       "  </tbody>\n",
       "</table>\n",
       "</div>"
      ],
      "text/plain": [
       "       Cloud Cover  Season Location Weather Type\n",
       "count        13200   13200    13200        13200\n",
       "unique           4       4        3            4\n",
       "top       overcast  Winter   inland        Rainy\n",
       "freq          6090    5610     4816         3300"
      ]
     },
     "metadata": {},
     "output_type": "display_data"
    }
   ],
   "source": [
    "# Summary statistics for categorical columns\n",
    "print(\"Categorical Summary:\")\n",
    "display(df.describe(include=[object]))"
   ]
  },
  {
   "cell_type": "code",
   "execution_count": 6,
   "id": "78c382b7",
   "metadata": {},
   "outputs": [
    {
     "name": "stdout",
     "output_type": "stream",
     "text": [
      "The dataset contains 13,200 rows and 11 columns.\n"
     ]
    }
   ],
   "source": [
    "# Checking the shape of the dataset (rows, columns)\n",
    "print(f\"The dataset contains {df.shape[0]:,} rows and {df.shape[1]} columns.\")"
   ]
  },
  {
   "cell_type": "code",
   "execution_count": 7,
   "id": "ea093b61",
   "metadata": {},
   "outputs": [
    {
     "name": "stdout",
     "output_type": "stream",
     "text": [
      "The dataset columns include:\n"
     ]
    },
    {
     "data": {
      "text/plain": [
       "Index(['Temperature', 'Humidity', 'Wind Speed', 'Precipitation (%)',\n",
       "       'Cloud Cover', 'Atmospheric Pressure', 'UV Index', 'Season',\n",
       "       'Visibility (km)', 'Location', 'Weather Type'],\n",
       "      dtype='object')"
      ]
     },
     "metadata": {},
     "output_type": "display_data"
    }
   ],
   "source": [
    "# Getting the column for the dataframe\n",
    "print(f\"The dataset columns include:\")\n",
    "display(df.columns)"
   ]
  },
  {
   "cell_type": "code",
   "execution_count": 8,
   "id": "a206442b",
   "metadata": {},
   "outputs": [
    {
     "data": {
      "text/plain": [
       "Weather Type\n",
       "Rainy     3300\n",
       "Cloudy    3300\n",
       "Sunny     3300\n",
       "Snowy     3300\n",
       "Name: count, dtype: int64"
      ]
     },
     "execution_count": 8,
     "metadata": {},
     "output_type": "execute_result"
    }
   ],
   "source": [
    "# Getting the values of each of the 'Weather Type' column unique cities\n",
    "weather_counts = df['Weather Type'].value_counts()\n",
    "\n",
    "weather_counts"
   ]
  },
  {
   "cell_type": "markdown",
   "id": "f70325c6",
   "metadata": {},
   "source": [
    "---"
   ]
  },
  {
   "cell_type": "markdown",
   "id": "1131744d",
   "metadata": {},
   "source": [
    "<a id=\"missing\"></a>\n",
    "\n",
    "## **1.3 Handling Missing Values**\n",
    "\n",
    "We identify missing values and apply appropriate strategies to handle them."
   ]
  },
  {
   "cell_type": "code",
   "execution_count": 9,
   "id": "5a29a9c4",
   "metadata": {},
   "outputs": [
    {
     "name": "stdout",
     "output_type": "stream",
     "text": [
      "Missing Values per Column:\n"
     ]
    },
    {
     "data": {
      "text/plain": [
       "Temperature             0\n",
       "Humidity                0\n",
       "Wind Speed              0\n",
       "Precipitation (%)       0\n",
       "Cloud Cover             0\n",
       "Atmospheric Pressure    0\n",
       "UV Index                0\n",
       "Season                  0\n",
       "Visibility (km)         0\n",
       "Location                0\n",
       "Weather Type            0\n",
       "dtype: int64"
      ]
     },
     "metadata": {},
     "output_type": "display_data"
    }
   ],
   "source": [
    "# Check for missing values\n",
    "print(\"Missing Values per Column:\")\n",
    "display(df.isnull().sum())"
   ]
  },
  {
   "cell_type": "markdown",
   "id": "a91a95b4",
   "metadata": {},
   "source": [
    "---"
   ]
  },
  {
   "cell_type": "markdown",
   "id": "5729139b",
   "metadata": {},
   "source": [
    "<a id=\"duplicates\"></a>\n",
    "\n",
    "## **1.4 Remove Duplicate Records**\n",
    "\n",
    "To ensure data quality, we check and remove duplicate rows."
   ]
  },
  {
   "cell_type": "code",
   "execution_count": 10,
   "id": "47d355e5",
   "metadata": {},
   "outputs": [
    {
     "name": "stdout",
     "output_type": "stream",
     "text": [
      "Duplicate Rows Found: 0\n"
     ]
    }
   ],
   "source": [
    "# Remove duplicate rows\n",
    "print(f\"Duplicate Rows Found: {df.duplicated().sum()}\")"
   ]
  },
  {
   "cell_type": "markdown",
   "id": "81a165f4",
   "metadata": {},
   "source": [
    "---"
   ]
  },
  {
   "cell_type": "markdown",
   "id": "5960aa85",
   "metadata": {},
   "source": [
    "<a id=\"rename\"></a>\n",
    "\n",
    "## **1.5 Rename Columns for Consistency**\n",
    "\n",
    "Standardizing column names improves readability and downstream processing."
   ]
  },
  {
   "cell_type": "code",
   "execution_count": 11,
   "id": "f4444457",
   "metadata": {},
   "outputs": [],
   "source": [
    "# Renaming Columns\n",
    "df.rename(columns={'Atmospheric Pressure': 'ATM_Pressure',\n",
    "                    'Precipitation (%)': 'Precipitation',\n",
    "                    'Visibility (km)': 'Visibility'},inplace=True)\n",
    "\n",
    "# Standardize column names: lowercase and replace spaces with underscores\n",
    "df.columns = df.columns.str.strip().str.lower().str.replace(' ', '_')"
   ]
  },
  {
   "cell_type": "markdown",
   "id": "bc96d42b",
   "metadata": {},
   "source": [
    "---"
   ]
  },
  {
   "cell_type": "markdown",
   "id": "24e30750",
   "metadata": {},
   "source": [
    "<a id=\"features\"></a>\n",
    "\n",
    "## **1.6 Feature Engineering**\n",
    "\n",
    "Handle outliers in numerical features like `Temperature`, `Atmospheric Pressure`, and `Wind Speed` by applying reasonable value ranges."
   ]
  },
  {
   "cell_type": "code",
   "execution_count": 12,
   "id": "c104b72c",
   "metadata": {},
   "outputs": [],
   "source": [
    "df = df[(df['temperature'] >= -50) & (df['temperature'] <= 50)]\n",
    "df = df[(df['atm_pressure'] >= 950) & (df['atm_pressure'] <= 1050)]\n",
    "df = df[(df['wind_speed'] >= 0) & (df['wind_speed'] <= 50)]"
   ]
  },
  {
   "cell_type": "markdown",
   "id": "5d38bd52",
   "metadata": {},
   "source": [
    "Based on the **Weather Classification** Dataset, here are some of the observations from the Dataset:\n",
    "\n",
    "1. **Dataset Dimensions**:  \n",
    "   The dataset initially contains **13,200 rows** and **11 columns**. After removing extreme outliers in **Temperature**, **Atmospheric Pressure**, and **Wind Speed**, the size of the dataset may have reduced (shape information after cleaning is missing).  \n",
    "\n",
    "2. **Data Quality**:  \n",
    "   - No missing values are present in the dataset across all columns.  \n",
    "   - No duplicate rows exist in the dataset.  \n",
    "\n",
    "3. **Numerical Features Summary**:  \n",
    "   - **Temperature** ranges from **-25.0°C to 109.0°C**, with a mean of **19.13°C**. Post-cleaning, extreme values outside the range **-50°C to 50°C** have been removed.  \n",
    "   - **Humidity** varies between **20% and 109%**, with an average of **68.71%**.  \n",
    "   - **Wind Speed** ranges from **0 to 48.5 km/h**, with a mean of **9.83 km/h**. Post-cleaning, values above **50 km/h** have been removed.  \n",
    "   - **Precipitation (%)** ranges from **0% to 109%**, with a mean of **53.64%**.  \n",
    "   - **Atmospheric Pressure** has a range of **800.12 to 1199.21 hPa**, with a mean of **1005.83 hPa**. Post-cleaning, values outside **950 to 1050 hPa** have been excluded.  \n",
    "   - **Visibility** (km) ranges from **0 to 20 km**, with a mean of **5.46 km**.  \n",
    "   - **UV Index** varies between **0 and 14**, with an average of **4.01**.  \n",
    "\n",
    "4. **Categorical Features Summary**:  \n",
    "   - **Cloud Cover** has 4 unique categories, with \"overcast\" being the most frequent, appearing **6,090 times**.  \n",
    "   - **Season** has 4 unique categories, with \"Winter\" being the most frequent, appearing **5,610 times**.  \n",
    "   - **Location** has 3 unique categories, with \"inland\" being the most frequent, appearing **4,816 times**.  \n",
    "   - **Weather Type** has 4 unique categories, with \"Rainy\" being the most frequent, appearing **3,300 times**.  "
   ]
  },
  {
   "cell_type": "markdown",
   "id": "c1fb9285",
   "metadata": {},
   "source": [
    "---"
   ]
  },
  {
   "cell_type": "markdown",
   "id": "84272078",
   "metadata": {},
   "source": [
    "<a id=\"save\"></a>\n",
    "\n",
    "## **1.7 Save the Cleaned Dataset**\n",
    "\n",
    "After completing the data cleaning and preprocessing steps, save the cleaned dataset to a CSV file for future use and reproducibility."
   ]
  },
  {
   "cell_type": "code",
   "execution_count": 13,
   "id": "d3c0e57e",
   "metadata": {},
   "outputs": [],
   "source": [
    "# Create a clean copy of the DataFrame for further processing and cleaning steps.\n",
    "df_clean = df.copy()"
   ]
  },
  {
   "cell_type": "code",
   "execution_count": 14,
   "id": "21314584",
   "metadata": {},
   "outputs": [
    {
     "data": {
      "text/html": [
       "<div>\n",
       "<style scoped>\n",
       "    .dataframe tbody tr th:only-of-type {\n",
       "        vertical-align: middle;\n",
       "    }\n",
       "\n",
       "    .dataframe tbody tr th {\n",
       "        vertical-align: top;\n",
       "    }\n",
       "\n",
       "    .dataframe thead th {\n",
       "        text-align: right;\n",
       "    }\n",
       "</style>\n",
       "<table border=\"1\" class=\"dataframe\">\n",
       "  <thead>\n",
       "    <tr style=\"text-align: right;\">\n",
       "      <th></th>\n",
       "      <th>temperature</th>\n",
       "      <th>humidity</th>\n",
       "      <th>wind_speed</th>\n",
       "      <th>precipitation</th>\n",
       "      <th>cloud_cover</th>\n",
       "      <th>atm_pressure</th>\n",
       "      <th>uv_index</th>\n",
       "      <th>season</th>\n",
       "      <th>visibility</th>\n",
       "      <th>location</th>\n",
       "      <th>weather_type</th>\n",
       "    </tr>\n",
       "  </thead>\n",
       "  <tbody>\n",
       "    <tr>\n",
       "      <th>0</th>\n",
       "      <td>14.0</td>\n",
       "      <td>73</td>\n",
       "      <td>9.5</td>\n",
       "      <td>82.0</td>\n",
       "      <td>partly cloudy</td>\n",
       "      <td>1010.82</td>\n",
       "      <td>2</td>\n",
       "      <td>Winter</td>\n",
       "      <td>3.5</td>\n",
       "      <td>inland</td>\n",
       "      <td>Rainy</td>\n",
       "    </tr>\n",
       "    <tr>\n",
       "      <th>1</th>\n",
       "      <td>39.0</td>\n",
       "      <td>96</td>\n",
       "      <td>8.5</td>\n",
       "      <td>71.0</td>\n",
       "      <td>partly cloudy</td>\n",
       "      <td>1011.43</td>\n",
       "      <td>7</td>\n",
       "      <td>Spring</td>\n",
       "      <td>10.0</td>\n",
       "      <td>inland</td>\n",
       "      <td>Cloudy</td>\n",
       "    </tr>\n",
       "    <tr>\n",
       "      <th>2</th>\n",
       "      <td>30.0</td>\n",
       "      <td>64</td>\n",
       "      <td>7.0</td>\n",
       "      <td>16.0</td>\n",
       "      <td>clear</td>\n",
       "      <td>1018.72</td>\n",
       "      <td>5</td>\n",
       "      <td>Spring</td>\n",
       "      <td>5.5</td>\n",
       "      <td>mountain</td>\n",
       "      <td>Sunny</td>\n",
       "    </tr>\n",
       "    <tr>\n",
       "      <th>3</th>\n",
       "      <td>38.0</td>\n",
       "      <td>83</td>\n",
       "      <td>1.5</td>\n",
       "      <td>82.0</td>\n",
       "      <td>clear</td>\n",
       "      <td>1026.25</td>\n",
       "      <td>7</td>\n",
       "      <td>Spring</td>\n",
       "      <td>1.0</td>\n",
       "      <td>coastal</td>\n",
       "      <td>Sunny</td>\n",
       "    </tr>\n",
       "    <tr>\n",
       "      <th>4</th>\n",
       "      <td>27.0</td>\n",
       "      <td>74</td>\n",
       "      <td>17.0</td>\n",
       "      <td>66.0</td>\n",
       "      <td>overcast</td>\n",
       "      <td>990.67</td>\n",
       "      <td>1</td>\n",
       "      <td>Winter</td>\n",
       "      <td>2.5</td>\n",
       "      <td>mountain</td>\n",
       "      <td>Rainy</td>\n",
       "    </tr>\n",
       "    <tr>\n",
       "      <th>...</th>\n",
       "      <td>...</td>\n",
       "      <td>...</td>\n",
       "      <td>...</td>\n",
       "      <td>...</td>\n",
       "      <td>...</td>\n",
       "      <td>...</td>\n",
       "      <td>...</td>\n",
       "      <td>...</td>\n",
       "      <td>...</td>\n",
       "      <td>...</td>\n",
       "      <td>...</td>\n",
       "    </tr>\n",
       "    <tr>\n",
       "      <th>13194</th>\n",
       "      <td>29.0</td>\n",
       "      <td>62</td>\n",
       "      <td>13.0</td>\n",
       "      <td>17.0</td>\n",
       "      <td>overcast</td>\n",
       "      <td>1002.81</td>\n",
       "      <td>2</td>\n",
       "      <td>Spring</td>\n",
       "      <td>5.0</td>\n",
       "      <td>coastal</td>\n",
       "      <td>Cloudy</td>\n",
       "    </tr>\n",
       "    <tr>\n",
       "      <th>13195</th>\n",
       "      <td>10.0</td>\n",
       "      <td>74</td>\n",
       "      <td>14.5</td>\n",
       "      <td>71.0</td>\n",
       "      <td>overcast</td>\n",
       "      <td>1003.15</td>\n",
       "      <td>1</td>\n",
       "      <td>Summer</td>\n",
       "      <td>1.0</td>\n",
       "      <td>mountain</td>\n",
       "      <td>Rainy</td>\n",
       "    </tr>\n",
       "    <tr>\n",
       "      <th>13197</th>\n",
       "      <td>30.0</td>\n",
       "      <td>77</td>\n",
       "      <td>5.5</td>\n",
       "      <td>28.0</td>\n",
       "      <td>overcast</td>\n",
       "      <td>1012.69</td>\n",
       "      <td>3</td>\n",
       "      <td>Autumn</td>\n",
       "      <td>9.0</td>\n",
       "      <td>coastal</td>\n",
       "      <td>Cloudy</td>\n",
       "    </tr>\n",
       "    <tr>\n",
       "      <th>13198</th>\n",
       "      <td>3.0</td>\n",
       "      <td>76</td>\n",
       "      <td>10.0</td>\n",
       "      <td>94.0</td>\n",
       "      <td>overcast</td>\n",
       "      <td>984.27</td>\n",
       "      <td>0</td>\n",
       "      <td>Winter</td>\n",
       "      <td>2.0</td>\n",
       "      <td>inland</td>\n",
       "      <td>Snowy</td>\n",
       "    </tr>\n",
       "    <tr>\n",
       "      <th>13199</th>\n",
       "      <td>-5.0</td>\n",
       "      <td>38</td>\n",
       "      <td>0.0</td>\n",
       "      <td>92.0</td>\n",
       "      <td>overcast</td>\n",
       "      <td>1015.37</td>\n",
       "      <td>5</td>\n",
       "      <td>Autumn</td>\n",
       "      <td>10.0</td>\n",
       "      <td>mountain</td>\n",
       "      <td>Rainy</td>\n",
       "    </tr>\n",
       "  </tbody>\n",
       "</table>\n",
       "<p>11944 rows × 11 columns</p>\n",
       "</div>"
      ],
      "text/plain": [
       "       temperature  humidity  wind_speed  precipitation    cloud_cover  \\\n",
       "0             14.0        73         9.5           82.0  partly cloudy   \n",
       "1             39.0        96         8.5           71.0  partly cloudy   \n",
       "2             30.0        64         7.0           16.0          clear   \n",
       "3             38.0        83         1.5           82.0          clear   \n",
       "4             27.0        74        17.0           66.0       overcast   \n",
       "...            ...       ...         ...            ...            ...   \n",
       "13194         29.0        62        13.0           17.0       overcast   \n",
       "13195         10.0        74        14.5           71.0       overcast   \n",
       "13197         30.0        77         5.5           28.0       overcast   \n",
       "13198          3.0        76        10.0           94.0       overcast   \n",
       "13199         -5.0        38         0.0           92.0       overcast   \n",
       "\n",
       "       atm_pressure  uv_index  season  visibility  location weather_type  \n",
       "0           1010.82         2  Winter         3.5    inland        Rainy  \n",
       "1           1011.43         7  Spring        10.0    inland       Cloudy  \n",
       "2           1018.72         5  Spring         5.5  mountain        Sunny  \n",
       "3           1026.25         7  Spring         1.0   coastal        Sunny  \n",
       "4            990.67         1  Winter         2.5  mountain        Rainy  \n",
       "...             ...       ...     ...         ...       ...          ...  \n",
       "13194       1002.81         2  Spring         5.0   coastal       Cloudy  \n",
       "13195       1003.15         1  Summer         1.0  mountain        Rainy  \n",
       "13197       1012.69         3  Autumn         9.0   coastal       Cloudy  \n",
       "13198        984.27         0  Winter         2.0    inland        Snowy  \n",
       "13199       1015.37         5  Autumn        10.0  mountain        Rainy  \n",
       "\n",
       "[11944 rows x 11 columns]"
      ]
     },
     "metadata": {},
     "output_type": "display_data"
    }
   ],
   "source": [
    "# Display the first and last few rows of the cleaned dataset to verify changes\n",
    "display(df_clean)"
   ]
  },
  {
   "cell_type": "code",
   "execution_count": 15,
   "id": "b8b12890",
   "metadata": {},
   "outputs": [
    {
     "name": "stdout",
     "output_type": "stream",
     "text": [
      "Dataset shape after cleaning:\n",
      "(11944, 11)\n"
     ]
    }
   ],
   "source": [
    "# Check the shape of the dataset after cleaning\n",
    "print(\"Dataset shape after cleaning:\")\n",
    "print(df_clean.shape)"
   ]
  },
  {
   "cell_type": "code",
   "execution_count": 16,
   "id": "80d853cc",
   "metadata": {},
   "outputs": [
    {
     "name": "stdout",
     "output_type": "stream",
     "text": [
      "Dataset info:\n",
      "<class 'pandas.core.frame.DataFrame'>\n",
      "Index: 11944 entries, 0 to 13199\n",
      "Data columns (total 11 columns):\n",
      " #   Column         Non-Null Count  Dtype  \n",
      "---  ------         --------------  -----  \n",
      " 0   temperature    11944 non-null  float64\n",
      " 1   humidity       11944 non-null  int64  \n",
      " 2   wind_speed     11944 non-null  float64\n",
      " 3   precipitation  11944 non-null  float64\n",
      " 4   cloud_cover    11944 non-null  object \n",
      " 5   atm_pressure   11944 non-null  float64\n",
      " 6   uv_index       11944 non-null  int64  \n",
      " 7   season         11944 non-null  object \n",
      " 8   visibility     11944 non-null  float64\n",
      " 9   location       11944 non-null  object \n",
      " 10  weather_type   11944 non-null  object \n",
      "dtypes: float64(5), int64(2), object(4)\n",
      "memory usage: 1.1+ MB\n"
     ]
    },
    {
     "data": {
      "text/plain": [
       "None"
      ]
     },
     "metadata": {},
     "output_type": "display_data"
    }
   ],
   "source": [
    "# Recheck the dataframe info to verify datatypes and non-null counts\n",
    "print(\"Dataset info:\")\n",
    "display(df_clean.info())"
   ]
  },
  {
   "cell_type": "code",
   "execution_count": 17,
   "id": "975adb64",
   "metadata": {},
   "outputs": [
    {
     "name": "stdout",
     "output_type": "stream",
     "text": [
      "The dataset columns include:\n"
     ]
    },
    {
     "data": {
      "text/plain": [
       "Index(['temperature', 'humidity', 'wind_speed', 'precipitation', 'cloud_cover',\n",
       "       'atm_pressure', 'uv_index', 'season', 'visibility', 'location',\n",
       "       'weather_type'],\n",
       "      dtype='object')"
      ]
     },
     "metadata": {},
     "output_type": "display_data"
    }
   ],
   "source": [
    "# Getting the column for the dataframe\n",
    "print(f\"The dataset columns include:\")\n",
    "display(df_clean.columns)"
   ]
  },
  {
   "cell_type": "code",
   "execution_count": 18,
   "id": "0bc981ea",
   "metadata": {},
   "outputs": [
    {
     "name": "stdout",
     "output_type": "stream",
     "text": [
      "Numerical Summary:\n"
     ]
    },
    {
     "data": {
      "text/html": [
       "<div>\n",
       "<style scoped>\n",
       "    .dataframe tbody tr th:only-of-type {\n",
       "        vertical-align: middle;\n",
       "    }\n",
       "\n",
       "    .dataframe tbody tr th {\n",
       "        vertical-align: top;\n",
       "    }\n",
       "\n",
       "    .dataframe thead th {\n",
       "        text-align: right;\n",
       "    }\n",
       "</style>\n",
       "<table border=\"1\" class=\"dataframe\">\n",
       "  <thead>\n",
       "    <tr style=\"text-align: right;\">\n",
       "      <th></th>\n",
       "      <th>temperature</th>\n",
       "      <th>humidity</th>\n",
       "      <th>wind_speed</th>\n",
       "      <th>precipitation</th>\n",
       "      <th>atm_pressure</th>\n",
       "      <th>uv_index</th>\n",
       "      <th>visibility</th>\n",
       "    </tr>\n",
       "  </thead>\n",
       "  <tbody>\n",
       "    <tr>\n",
       "      <th>count</th>\n",
       "      <td>11944.000000</td>\n",
       "      <td>11944.000000</td>\n",
       "      <td>11944.000000</td>\n",
       "      <td>11944.000000</td>\n",
       "      <td>11944.000000</td>\n",
       "      <td>11944.000000</td>\n",
       "      <td>11944.000000</td>\n",
       "    </tr>\n",
       "    <tr>\n",
       "      <th>mean</th>\n",
       "      <td>18.119642</td>\n",
       "      <td>69.539685</td>\n",
       "      <td>9.844022</td>\n",
       "      <td>52.455626</td>\n",
       "      <td>1005.777150</td>\n",
       "      <td>3.680593</td>\n",
       "      <td>5.138731</td>\n",
       "    </tr>\n",
       "    <tr>\n",
       "      <th>std</th>\n",
       "      <td>15.210780</td>\n",
       "      <td>19.576576</td>\n",
       "      <td>6.893475</td>\n",
       "      <td>32.110388</td>\n",
       "      <td>13.291386</td>\n",
       "      <td>3.642811</td>\n",
       "      <td>2.842095</td>\n",
       "    </tr>\n",
       "    <tr>\n",
       "      <th>min</th>\n",
       "      <td>-25.000000</td>\n",
       "      <td>20.000000</td>\n",
       "      <td>0.000000</td>\n",
       "      <td>0.000000</td>\n",
       "      <td>950.170000</td>\n",
       "      <td>0.000000</td>\n",
       "      <td>0.000000</td>\n",
       "    </tr>\n",
       "    <tr>\n",
       "      <th>25%</th>\n",
       "      <td>4.000000</td>\n",
       "      <td>59.000000</td>\n",
       "      <td>5.000000</td>\n",
       "      <td>19.000000</td>\n",
       "      <td>995.387500</td>\n",
       "      <td>1.000000</td>\n",
       "      <td>3.000000</td>\n",
       "    </tr>\n",
       "    <tr>\n",
       "      <th>50%</th>\n",
       "      <td>21.000000</td>\n",
       "      <td>70.000000</td>\n",
       "      <td>9.000000</td>\n",
       "      <td>57.000000</td>\n",
       "      <td>1007.315000</td>\n",
       "      <td>2.000000</td>\n",
       "      <td>5.000000</td>\n",
       "    </tr>\n",
       "    <tr>\n",
       "      <th>75%</th>\n",
       "      <td>30.000000</td>\n",
       "      <td>84.000000</td>\n",
       "      <td>13.500000</td>\n",
       "      <td>81.000000</td>\n",
       "      <td>1016.062500</td>\n",
       "      <td>6.000000</td>\n",
       "      <td>7.125000</td>\n",
       "    </tr>\n",
       "    <tr>\n",
       "      <th>max</th>\n",
       "      <td>50.000000</td>\n",
       "      <td>109.000000</td>\n",
       "      <td>48.500000</td>\n",
       "      <td>109.000000</td>\n",
       "      <td>1049.560000</td>\n",
       "      <td>14.000000</td>\n",
       "      <td>20.000000</td>\n",
       "    </tr>\n",
       "  </tbody>\n",
       "</table>\n",
       "</div>"
      ],
      "text/plain": [
       "        temperature      humidity    wind_speed  precipitation  atm_pressure  \\\n",
       "count  11944.000000  11944.000000  11944.000000   11944.000000  11944.000000   \n",
       "mean      18.119642     69.539685      9.844022      52.455626   1005.777150   \n",
       "std       15.210780     19.576576      6.893475      32.110388     13.291386   \n",
       "min      -25.000000     20.000000      0.000000       0.000000    950.170000   \n",
       "25%        4.000000     59.000000      5.000000      19.000000    995.387500   \n",
       "50%       21.000000     70.000000      9.000000      57.000000   1007.315000   \n",
       "75%       30.000000     84.000000     13.500000      81.000000   1016.062500   \n",
       "max       50.000000    109.000000     48.500000     109.000000   1049.560000   \n",
       "\n",
       "           uv_index    visibility  \n",
       "count  11944.000000  11944.000000  \n",
       "mean       3.680593      5.138731  \n",
       "std        3.642811      2.842095  \n",
       "min        0.000000      0.000000  \n",
       "25%        1.000000      3.000000  \n",
       "50%        2.000000      5.000000  \n",
       "75%        6.000000      7.125000  \n",
       "max       14.000000     20.000000  "
      ]
     },
     "metadata": {},
     "output_type": "display_data"
    }
   ],
   "source": [
    "# Summary statistics for numerical columns\n",
    "print(\"Numerical Summary:\")\n",
    "display(df_clean.describe())"
   ]
  },
  {
   "cell_type": "code",
   "execution_count": 19,
   "id": "ab465615",
   "metadata": {},
   "outputs": [
    {
     "name": "stdout",
     "output_type": "stream",
     "text": [
      "Categorical Summary:\n"
     ]
    },
    {
     "data": {
      "text/html": [
       "<div>\n",
       "<style scoped>\n",
       "    .dataframe tbody tr th:only-of-type {\n",
       "        vertical-align: middle;\n",
       "    }\n",
       "\n",
       "    .dataframe tbody tr th {\n",
       "        vertical-align: top;\n",
       "    }\n",
       "\n",
       "    .dataframe thead th {\n",
       "        text-align: right;\n",
       "    }\n",
       "</style>\n",
       "<table border=\"1\" class=\"dataframe\">\n",
       "  <thead>\n",
       "    <tr style=\"text-align: right;\">\n",
       "      <th></th>\n",
       "      <th>cloud_cover</th>\n",
       "      <th>season</th>\n",
       "      <th>location</th>\n",
       "      <th>weather_type</th>\n",
       "    </tr>\n",
       "  </thead>\n",
       "  <tbody>\n",
       "    <tr>\n",
       "      <th>count</th>\n",
       "      <td>11944</td>\n",
       "      <td>11944</td>\n",
       "      <td>11944</td>\n",
       "      <td>11944</td>\n",
       "    </tr>\n",
       "    <tr>\n",
       "      <th>unique</th>\n",
       "      <td>4</td>\n",
       "      <td>4</td>\n",
       "      <td>3</td>\n",
       "      <td>4</td>\n",
       "    </tr>\n",
       "    <tr>\n",
       "      <th>top</th>\n",
       "      <td>overcast</td>\n",
       "      <td>Winter</td>\n",
       "      <td>inland</td>\n",
       "      <td>Snowy</td>\n",
       "    </tr>\n",
       "    <tr>\n",
       "      <th>freq</th>\n",
       "      <td>5700</td>\n",
       "      <td>5291</td>\n",
       "      <td>4411</td>\n",
       "      <td>3079</td>\n",
       "    </tr>\n",
       "  </tbody>\n",
       "</table>\n",
       "</div>"
      ],
      "text/plain": [
       "       cloud_cover  season location weather_type\n",
       "count        11944   11944    11944        11944\n",
       "unique           4       4        3            4\n",
       "top       overcast  Winter   inland        Snowy\n",
       "freq          5700    5291     4411         3079"
      ]
     },
     "metadata": {},
     "output_type": "display_data"
    }
   ],
   "source": [
    "# Summary statistics for categorical columns\n",
    "print(\"Categorical Summary:\")\n",
    "display(df_clean.describe(include=[object]))"
   ]
  },
  {
   "cell_type": "code",
   "execution_count": 20,
   "id": "4e3dae79",
   "metadata": {},
   "outputs": [],
   "source": [
    "# Save this lightly cleaned dataset for EDA and Dashboard\n",
    "df_clean.to_csv('weather_classification_cleaned.csv', index=False)"
   ]
  },
  {
   "cell_type": "markdown",
   "id": "7035d4fd",
   "metadata": {},
   "source": [
    "#### With these datasets ready, we can now proceed confidently to perform Exploratory Data Analysis (EDA)."
   ]
  },
  {
   "cell_type": "code",
   "execution_count": null,
   "id": "23c86bee",
   "metadata": {},
   "outputs": [],
   "source": []
  }
 ],
 "metadata": {
  "kernelspec": {
   "display_name": "base",
   "language": "python",
   "name": "python3"
  },
  "language_info": {
   "codemirror_mode": {
    "name": "ipython",
    "version": 3
   },
   "file_extension": ".py",
   "mimetype": "text/x-python",
   "name": "python",
   "nbconvert_exporter": "python",
   "pygments_lexer": "ipython3",
   "version": "3.12.4"
  }
 },
 "nbformat": 4,
 "nbformat_minor": 5
}
