{
 "cells": [
  {
   "cell_type": "markdown",
   "id": "41e96744",
   "metadata": {},
   "source": [
    "<div style=\"text-align: center;\">\n",
    "  <img src=\"Images/Weather_Types.png\" alt=\"Weather_Types Illustration\" width=\"600\"/>\n",
    "</div>"
   ]
  },
  {
   "cell_type": "markdown",
   "id": "8aa6bc81",
   "metadata": {},
   "source": [
    "## Hello!  \n",
    "\n",
    "This is a project utilizing the **Weather-Type-Classification Database** to analyze and classify weather patterns. By exploring this dataset, we aim to build insights into weather characteristics and develop models for accurate weather classification based on the provided features.  \n",
    "\n",
    "#### About the Dataset  \n",
    "The dataset, available on [Kaggle](https://www.kaggle.com/datasets/nikhil7280/weather-type-classification), contains synthetically generated weather data designed for classification tasks. It includes a wide range of weather-related variables, offering opportunities to practice data preprocessing, feature engineering, and outlier detection. "
   ]
  },
  {
   "cell_type": "markdown",
   "id": "dcc79eaf",
   "metadata": {},
   "source": [
    "#### Dataset Overview  \n",
    "The dataset consists of **13,200 rows** and **11 columns**, structured as follows:  \n",
    "\n",
    "1. **Temperature**: Temperature in degrees Celsius, ranging from extreme cold to extreme heat.  \n",
    "2. **Humidity**: Humidity percentage, including values above 100% to introduce outliers.  \n",
    "3. **Wind Speed**: Wind speed in kilometers per hour, including unrealistically high values.  \n",
    "4. **Precipitation (%)**: Precipitation percentage, with some outlier values.  \n",
    "5. **Cloud Cover**: Description of cloud cover (categorical).  \n",
    "6. **Atmospheric Pressure**: Atmospheric pressure in hPa, covering a wide range.  \n",
    "7. **UV Index**: Strength of ultraviolet radiation (numeric).  \n",
    "8. **Season**: Season during which the data was recorded (categorical).  \n",
    "9. **Visibility (km)**: Visibility in kilometers, with very low or very high values.  \n",
    "10. **Location**: The type of location where the data was recorded (categorical).  \n",
    "11. **Weather Type**: Target variable, classifying weather as Rainy, Sunny, Cloudy, or Snowy.  \n",
    "\n",
    "#### Project Inspiration  \n",
    "This project is inspired by the need to develop robust classification models for weather prediction. By leveraging the **Weather-Type-Classification Database**, we aim to identify key relationships among variables and improve the accuracy of weather categorization.  \n",
    "\n",
    "#### Goals of the Project  \n",
    "1. **Data Analysis**: Explore the dataset to uncover trends and patterns in weather features.  \n",
    "2. **Classification Models**: Develop and evaluate machine learning models to classify weather types based on the provided features.  \n",
    "\n",
    "This project will focus on utilizing the **Weather-Type-Classification Database** to provide valuable insights into weather data and enhance classification strategies for weather-related applications.\n",
    "\n",
    "> ⚠️ *Note*: Although the data is synthetic, it serves as a useful proxy for learning data preprocessing, outlier detection, and classification modeling techniques."
   ]
  },
  {
   "cell_type": "code",
   "execution_count": null,
   "id": "8f86c8ec",
   "metadata": {},
   "outputs": [],
   "source": []
  },
  {
   "cell_type": "markdown",
   "id": "7155cf10",
   "metadata": {},
   "source": [
    "# **Step 3: Exploratory Data Analysis (EDA) – SQL Queries**\n",
    "\n",
    "This notebook focuses on performing **exploratory data analysis using SQL queries** within a Jupyter environment using SQLite. By leveraging SQL-style queries, we can extract meaningful insights from the weather dataset efficiently and in a structured manner.\n",
    "\n",
    "---\n",
    "\n",
    "### Objectives of This Notebook\n",
    "\n",
    "1. [Import Libraries and Load the Dataset](#import)  \n",
    "2. [Preview the Dataset](#preview)  \n",
    "3. [Run SQL Queries to Answer Key Questions](#queries)  \n",
    "4. [Summary and Key Insights](#summary)\n",
    "\n",
    "---\n",
    "\n",
    "### Key Questions Explored via SQL\n",
    "\n",
    "1. What is the frequency distribution of weather types such as Rainy, Cloudy, and Sunny?  \n",
    "2. How does the average temperature vary across different seasons?  \n",
    "3. What are the minimum and maximum humidity levels under each weather type?  \n",
    "4. Which cloud cover category appears most frequently in the dataset?  \n",
    "5. How does UV Index differ across locations like coastal, inland, and mountain areas?  \n",
    "6. What are the average precipitation patterns across different seasons and weather types?  \n",
    "7. How does wind speed behave on rainy days compared to other weather conditions?  \n",
    "8. Which season has the lowest average visibility, and how does it relate to weather type?  \n",
    "9. What are the atmospheric pressure trends across different locations and cloud cover categories?\n",
    "\n",
    "---\n",
    "\n",
    "### Next Steps\n",
    "\n",
    "- Step 4: [Modeling & Prediction](./04_modeling_prediction.ipynb)\n"
   ]
  },
  {
   "cell_type": "code",
   "execution_count": null,
   "id": "9ac2e556",
   "metadata": {},
   "outputs": [],
   "source": []
  },
  {
   "cell_type": "markdown",
   "id": "e0a89a97",
   "metadata": {},
   "source": [
    "<a id=\"import\"></a>\n",
    "\n",
    "## **3.1 Import Libraries, Load the Dataset, and Connect to the Database**"
   ]
  },
  {
   "cell_type": "markdown",
   "id": "140550b9",
   "metadata": {},
   "source": [
    "We begin by importing the required Python libraries:\n",
    "\n",
    "- **Pandas** for data manipulation and analysis.\n",
    "- **SQLite3** for setting up and querying a local SQL database.\n",
    "- **IPython SQL extension** for running SQL queries directly within the notebook.\n",
    "\n",
    "After loading the **Student Depression** dataset into a pandas DataFrame, we connect it to a local **SQLite** database. This setup enables us to perform SQL-based exploration conveniently within the Jupyter Notebook environment."
   ]
  },
  {
   "cell_type": "code",
   "execution_count": 1,
   "id": "ed3a23f9",
   "metadata": {},
   "outputs": [],
   "source": [
    "# Pandas is a software library written for the Python programming language for data manipulation and analysis.\n",
    "import pandas as pd\n",
    "\n",
    "# sqlite3 is a built-in Python library for creating and interacting with SQLite databases\n",
    "import sqlite3\n",
    "\n",
    "# prettytable is a module used to format tabular data in a readable way (optional)\n",
    "import prettytable"
   ]
  },
  {
   "cell_type": "code",
   "execution_count": 2,
   "id": "6a8768ce",
   "metadata": {},
   "outputs": [],
   "source": [
    "# Load the ipython-sql extension to run SQL queries in Jupyter\n",
    "%load_ext sql\n",
    "\n",
    "# Sets default format for prettytable display\n",
    "prettytable.DEFAULT = 'DEFAULT'"
   ]
  },
  {
   "cell_type": "code",
   "execution_count": 3,
   "id": "8ed941d5",
   "metadata": {},
   "outputs": [],
   "source": [
    "# Create SQLite connection and cursor\n",
    "con = sqlite3.connect(\"weather_classification_insights.db\")\n",
    "cur = con.cursor()\n",
    "\n",
    "# Connect to the SQLite database for ipython-sql\n",
    "%sql sqlite:///weather_classification_insights.db"
   ]
  },
  {
   "cell_type": "code",
   "execution_count": 4,
   "id": "6f8964ab",
   "metadata": {},
   "outputs": [
    {
     "data": {
      "text/plain": [
       "11944"
      ]
     },
     "execution_count": 4,
     "metadata": {},
     "output_type": "execute_result"
    }
   ],
   "source": [
    "# Load your cleaned dataset\n",
    "df = pd.read_csv(\"weather_classification_cleaned.csv\")\n",
    "\n",
    "# Save the DataFrame to a new table in the SQLite database\n",
    "df.to_sql(\"Climate_Analysis\", con, if_exists='replace', index=False)"
   ]
  },
  {
   "cell_type": "code",
   "execution_count": 5,
   "id": "8f5176dd",
   "metadata": {},
   "outputs": [
    {
     "name": "stdout",
     "output_type": "stream",
     "text": [
      " * sqlite:///weather_classification_insights.db\n",
      "Done.\n"
     ]
    },
    {
     "data": {
      "text/plain": [
       "[]"
      ]
     },
     "execution_count": 5,
     "metadata": {},
     "output_type": "execute_result"
    }
   ],
   "source": [
    "# Drop the cleaned query table if it already exists (to avoid duplication)\n",
    "%sql DROP TABLE IF EXISTS Weather_Data;"
   ]
  },
  {
   "cell_type": "code",
   "execution_count": 6,
   "id": "f31218cd",
   "metadata": {},
   "outputs": [
    {
     "name": "stdout",
     "output_type": "stream",
     "text": [
      " * sqlite:///weather_classification_insights.db\n",
      "Done.\n"
     ]
    },
    {
     "data": {
      "text/plain": [
       "[]"
      ]
     },
     "execution_count": 6,
     "metadata": {},
     "output_type": "execute_result"
    }
   ],
   "source": [
    "# Create a new cleaned SQL table with all non-null rows (modify as needed)\n",
    "%sql CREATE TABLE Weather_Data AS SELECT * FROM Climate_Analysis;"
   ]
  },
  {
   "cell_type": "markdown",
   "id": "4464f311",
   "metadata": {},
   "source": [
    "---"
   ]
  },
  {
   "cell_type": "markdown",
   "id": "82fc9eeb",
   "metadata": {},
   "source": [
    "<a id=\"preview\"></a>\n",
    "\n",
    "## **3.2 Preview the Dataset**\n",
    "\n",
    "To understand the structure and content of the dataset, we start by viewing the first few rows using an SQL query:"
   ]
  },
  {
   "cell_type": "code",
   "execution_count": 7,
   "id": "fb8af02f",
   "metadata": {},
   "outputs": [
    {
     "name": "stdout",
     "output_type": "stream",
     "text": [
      " * sqlite:///weather_classification_insights.db\n",
      "Done.\n"
     ]
    },
    {
     "data": {
      "text/html": [
       "<table>\n",
       "    <thead>\n",
       "        <tr>\n",
       "            <th>temperature</th>\n",
       "            <th>humidity</th>\n",
       "            <th>wind_speed</th>\n",
       "            <th>precipitation</th>\n",
       "            <th>cloud_cover</th>\n",
       "            <th>atm_pressure</th>\n",
       "            <th>uv_index</th>\n",
       "            <th>season</th>\n",
       "            <th>visibility</th>\n",
       "            <th>location</th>\n",
       "            <th>weather_type</th>\n",
       "        </tr>\n",
       "    </thead>\n",
       "    <tbody>\n",
       "        <tr>\n",
       "            <td>14.0</td>\n",
       "            <td>73</td>\n",
       "            <td>9.5</td>\n",
       "            <td>82.0</td>\n",
       "            <td>partly cloudy</td>\n",
       "            <td>1010.82</td>\n",
       "            <td>2</td>\n",
       "            <td>Winter</td>\n",
       "            <td>3.5</td>\n",
       "            <td>inland</td>\n",
       "            <td>Rainy</td>\n",
       "        </tr>\n",
       "        <tr>\n",
       "            <td>39.0</td>\n",
       "            <td>96</td>\n",
       "            <td>8.5</td>\n",
       "            <td>71.0</td>\n",
       "            <td>partly cloudy</td>\n",
       "            <td>1011.43</td>\n",
       "            <td>7</td>\n",
       "            <td>Spring</td>\n",
       "            <td>10.0</td>\n",
       "            <td>inland</td>\n",
       "            <td>Cloudy</td>\n",
       "        </tr>\n",
       "        <tr>\n",
       "            <td>30.0</td>\n",
       "            <td>64</td>\n",
       "            <td>7.0</td>\n",
       "            <td>16.0</td>\n",
       "            <td>clear</td>\n",
       "            <td>1018.72</td>\n",
       "            <td>5</td>\n",
       "            <td>Spring</td>\n",
       "            <td>5.5</td>\n",
       "            <td>mountain</td>\n",
       "            <td>Sunny</td>\n",
       "        </tr>\n",
       "        <tr>\n",
       "            <td>38.0</td>\n",
       "            <td>83</td>\n",
       "            <td>1.5</td>\n",
       "            <td>82.0</td>\n",
       "            <td>clear</td>\n",
       "            <td>1026.25</td>\n",
       "            <td>7</td>\n",
       "            <td>Spring</td>\n",
       "            <td>1.0</td>\n",
       "            <td>coastal</td>\n",
       "            <td>Sunny</td>\n",
       "        </tr>\n",
       "        <tr>\n",
       "            <td>27.0</td>\n",
       "            <td>74</td>\n",
       "            <td>17.0</td>\n",
       "            <td>66.0</td>\n",
       "            <td>overcast</td>\n",
       "            <td>990.67</td>\n",
       "            <td>1</td>\n",
       "            <td>Winter</td>\n",
       "            <td>2.5</td>\n",
       "            <td>mountain</td>\n",
       "            <td>Rainy</td>\n",
       "        </tr>\n",
       "        <tr>\n",
       "            <td>32.0</td>\n",
       "            <td>55</td>\n",
       "            <td>3.5</td>\n",
       "            <td>26.0</td>\n",
       "            <td>overcast</td>\n",
       "            <td>1010.03</td>\n",
       "            <td>2</td>\n",
       "            <td>Summer</td>\n",
       "            <td>5.0</td>\n",
       "            <td>inland</td>\n",
       "            <td>Cloudy</td>\n",
       "        </tr>\n",
       "        <tr>\n",
       "            <td>-2.0</td>\n",
       "            <td>97</td>\n",
       "            <td>8.0</td>\n",
       "            <td>86.0</td>\n",
       "            <td>overcast</td>\n",
       "            <td>990.87</td>\n",
       "            <td>1</td>\n",
       "            <td>Winter</td>\n",
       "            <td>4.0</td>\n",
       "            <td>inland</td>\n",
       "            <td>Snowy</td>\n",
       "        </tr>\n",
       "        <tr>\n",
       "            <td>3.0</td>\n",
       "            <td>85</td>\n",
       "            <td>6.0</td>\n",
       "            <td>96.0</td>\n",
       "            <td>partly cloudy</td>\n",
       "            <td>984.46</td>\n",
       "            <td>1</td>\n",
       "            <td>Winter</td>\n",
       "            <td>3.5</td>\n",
       "            <td>inland</td>\n",
       "            <td>Snowy</td>\n",
       "        </tr>\n",
       "        <tr>\n",
       "            <td>3.0</td>\n",
       "            <td>83</td>\n",
       "            <td>6.0</td>\n",
       "            <td>66.0</td>\n",
       "            <td>overcast</td>\n",
       "            <td>999.44</td>\n",
       "            <td>0</td>\n",
       "            <td>Winter</td>\n",
       "            <td>1.0</td>\n",
       "            <td>mountain</td>\n",
       "            <td>Snowy</td>\n",
       "        </tr>\n",
       "        <tr>\n",
       "            <td>28.0</td>\n",
       "            <td>74</td>\n",
       "            <td>8.5</td>\n",
       "            <td>107.0</td>\n",
       "            <td>clear</td>\n",
       "            <td>1012.13</td>\n",
       "            <td>8</td>\n",
       "            <td>Winter</td>\n",
       "            <td>7.5</td>\n",
       "            <td>coastal</td>\n",
       "            <td>Sunny</td>\n",
       "        </tr>\n",
       "    </tbody>\n",
       "</table>"
      ],
      "text/plain": [
       "[(14.0, 73, 9.5, 82.0, 'partly cloudy', 1010.82, 2, 'Winter', 3.5, 'inland', 'Rainy'),\n",
       " (39.0, 96, 8.5, 71.0, 'partly cloudy', 1011.43, 7, 'Spring', 10.0, 'inland', 'Cloudy'),\n",
       " (30.0, 64, 7.0, 16.0, 'clear', 1018.72, 5, 'Spring', 5.5, 'mountain', 'Sunny'),\n",
       " (38.0, 83, 1.5, 82.0, 'clear', 1026.25, 7, 'Spring', 1.0, 'coastal', 'Sunny'),\n",
       " (27.0, 74, 17.0, 66.0, 'overcast', 990.67, 1, 'Winter', 2.5, 'mountain', 'Rainy'),\n",
       " (32.0, 55, 3.5, 26.0, 'overcast', 1010.03, 2, 'Summer', 5.0, 'inland', 'Cloudy'),\n",
       " (-2.0, 97, 8.0, 86.0, 'overcast', 990.87, 1, 'Winter', 4.0, 'inland', 'Snowy'),\n",
       " (3.0, 85, 6.0, 96.0, 'partly cloudy', 984.46, 1, 'Winter', 3.5, 'inland', 'Snowy'),\n",
       " (3.0, 83, 6.0, 66.0, 'overcast', 999.44, 0, 'Winter', 1.0, 'mountain', 'Snowy'),\n",
       " (28.0, 74, 8.5, 107.0, 'clear', 1012.13, 8, 'Winter', 7.5, 'coastal', 'Sunny')]"
      ]
     },
     "execution_count": 7,
     "metadata": {},
     "output_type": "execute_result"
    }
   ],
   "source": [
    "%%sql\n",
    "SELECT * \n",
    "FROM Weather_Data \n",
    "LIMIT 10;"
   ]
  },
  {
   "cell_type": "markdown",
   "id": "d48aa7dc",
   "metadata": {},
   "source": [
    "---"
   ]
  },
  {
   "cell_type": "markdown",
   "id": "0e3e4af4",
   "metadata": {},
   "source": [
    "<a id=\"sql_queries\"></a>\n",
    "\n",
    "## **3.3 Run SQL Queries to Answer Key Questions**\n",
    "\n",
    "Here we run a series of SQL queries to explore and gain insights from the dataset. Each query focuses on a specific question relevant to understanding factors related to depression."
   ]
  },
  {
   "cell_type": "markdown",
   "id": "0bbda9ef",
   "metadata": {},
   "source": [
    "### 3.3.1 Frequency Distribution of Weather Types\n",
    "\n",
    "**Description:**\n",
    "This query counts how often each type of weather (e.g., Sunny, Rainy, Cloudy) appears in the dataset. It helps us understand the most and least common weather conditions recorded across different locations and seasons."
   ]
  },
  {
   "cell_type": "code",
   "execution_count": 8,
   "id": "f0f4df73",
   "metadata": {},
   "outputs": [
    {
     "name": "stdout",
     "output_type": "stream",
     "text": [
      " * sqlite:///weather_classification_insights.db\n",
      "Done.\n"
     ]
    },
    {
     "data": {
      "text/html": [
       "<table>\n",
       "    <thead>\n",
       "        <tr>\n",
       "            <th>weather_type</th>\n",
       "            <th>count</th>\n",
       "        </tr>\n",
       "    </thead>\n",
       "    <tbody>\n",
       "        <tr>\n",
       "            <td>Snowy</td>\n",
       "            <td>3079</td>\n",
       "        </tr>\n",
       "        <tr>\n",
       "            <td>Cloudy</td>\n",
       "            <td>3003</td>\n",
       "        </tr>\n",
       "        <tr>\n",
       "            <td>Rainy</td>\n",
       "            <td>2986</td>\n",
       "        </tr>\n",
       "        <tr>\n",
       "            <td>Sunny</td>\n",
       "            <td>2876</td>\n",
       "        </tr>\n",
       "    </tbody>\n",
       "</table>"
      ],
      "text/plain": [
       "[('Snowy', 3079), ('Cloudy', 3003), ('Rainy', 2986), ('Sunny', 2876)]"
      ]
     },
     "execution_count": 8,
     "metadata": {},
     "output_type": "execute_result"
    }
   ],
   "source": [
    "%%sql\n",
    "SELECT weather_type, COUNT(*) AS count \n",
    "FROM Weather_Data \n",
    "GROUP BY weather_type \n",
    "ORDER BY count DESC;"
   ]
  },
  {
   "cell_type": "markdown",
   "id": "a9ab247b",
   "metadata": {},
   "source": [
    "### 3.3.2 Average Temperature by Season\n",
    "\n",
    "**Description:**\n",
    "By calculating the average temperature for each season, this query reveals seasonal trends in temperature variation. It's useful for understanding how weather shifts between Winter, Spring, Summer, and Fall."
   ]
  },
  {
   "cell_type": "code",
   "execution_count": 9,
   "id": "dd0885df",
   "metadata": {},
   "outputs": [
    {
     "name": "stdout",
     "output_type": "stream",
     "text": [
      " * sqlite:///weather_classification_insights.db\n",
      "Done.\n"
     ]
    },
    {
     "data": {
      "text/html": [
       "<table>\n",
       "    <thead>\n",
       "        <tr>\n",
       "            <th>season</th>\n",
       "            <th>avg_temperature</th>\n",
       "        </tr>\n",
       "    </thead>\n",
       "    <tbody>\n",
       "        <tr>\n",
       "            <td>Spring</td>\n",
       "            <td>25.35</td>\n",
       "        </tr>\n",
       "        <tr>\n",
       "            <td>Autumn</td>\n",
       "            <td>25.29</td>\n",
       "        </tr>\n",
       "        <tr>\n",
       "            <td>Summer</td>\n",
       "            <td>25.27</td>\n",
       "        </tr>\n",
       "        <tr>\n",
       "            <td>Winter</td>\n",
       "            <td>9.09</td>\n",
       "        </tr>\n",
       "    </tbody>\n",
       "</table>"
      ],
      "text/plain": [
       "[('Spring', 25.35), ('Autumn', 25.29), ('Summer', 25.27), ('Winter', 9.09)]"
      ]
     },
     "execution_count": 9,
     "metadata": {},
     "output_type": "execute_result"
    }
   ],
   "source": [
    "%%sql\n",
    "SELECT season, ROUND(AVG(temperature), 2) AS avg_temperature \n",
    "FROM Weather_Data \n",
    "GROUP BY season \n",
    "ORDER BY avg_temperature DESC;"
   ]
  },
  {
   "cell_type": "markdown",
   "id": "5ffd7c26",
   "metadata": {},
   "source": [
    "### 3.3.3 Min and Max Humidity by Weather Type\n",
    "\n",
    "**Description:**\n",
    "This query shows the minimum and maximum humidity levels for each weather type. It helps assess how different weather conditions (e.g., Rainy, Sunny) relate to the range of humidity levels experienced."
   ]
  },
  {
   "cell_type": "code",
   "execution_count": 10,
   "id": "9970c090",
   "metadata": {},
   "outputs": [
    {
     "name": "stdout",
     "output_type": "stream",
     "text": [
      " * sqlite:///weather_classification_insights.db\n",
      "Done.\n"
     ]
    },
    {
     "data": {
      "text/html": [
       "<table>\n",
       "    <thead>\n",
       "        <tr>\n",
       "            <th>weather_type</th>\n",
       "            <th>min_humidity</th>\n",
       "            <th>max_humidity</th>\n",
       "        </tr>\n",
       "    </thead>\n",
       "    <tbody>\n",
       "        <tr>\n",
       "            <td>Cloudy</td>\n",
       "            <td>20</td>\n",
       "            <td>109</td>\n",
       "        </tr>\n",
       "        <tr>\n",
       "            <td>Rainy</td>\n",
       "            <td>20</td>\n",
       "            <td>109</td>\n",
       "        </tr>\n",
       "        <tr>\n",
       "            <td>Snowy</td>\n",
       "            <td>20</td>\n",
       "            <td>109</td>\n",
       "        </tr>\n",
       "        <tr>\n",
       "            <td>Sunny</td>\n",
       "            <td>20</td>\n",
       "            <td>109</td>\n",
       "        </tr>\n",
       "    </tbody>\n",
       "</table>"
      ],
      "text/plain": [
       "[('Cloudy', 20, 109),\n",
       " ('Rainy', 20, 109),\n",
       " ('Snowy', 20, 109),\n",
       " ('Sunny', 20, 109)]"
      ]
     },
     "execution_count": 10,
     "metadata": {},
     "output_type": "execute_result"
    }
   ],
   "source": [
    "%%sql\n",
    "SELECT weather_type, \n",
    "       MIN(humidity) AS min_humidity, \n",
    "       MAX(humidity) AS max_humidity \n",
    "FROM Weather_Data \n",
    "GROUP BY weather_type;"
   ]
  },
  {
   "cell_type": "markdown",
   "id": "a3537fc6",
   "metadata": {},
   "source": [
    "### 3.3.4 Most Frequent Cloud Cover Type\n",
    "\n",
    "**Description:**\n",
    "This query determines which type of cloud cover is recorded most frequently in the dataset. It provides insights into typical sky conditions in the observed areas."
   ]
  },
  {
   "cell_type": "code",
   "execution_count": 11,
   "id": "fcf7bc3d",
   "metadata": {},
   "outputs": [
    {
     "name": "stdout",
     "output_type": "stream",
     "text": [
      " * sqlite:///weather_classification_insights.db\n",
      "Done.\n"
     ]
    },
    {
     "data": {
      "text/html": [
       "<table>\n",
       "    <thead>\n",
       "        <tr>\n",
       "            <th>cloud_cover</th>\n",
       "            <th>count</th>\n",
       "        </tr>\n",
       "    </thead>\n",
       "    <tbody>\n",
       "        <tr>\n",
       "            <td>overcast</td>\n",
       "            <td>5700</td>\n",
       "        </tr>\n",
       "    </tbody>\n",
       "</table>"
      ],
      "text/plain": [
       "[('overcast', 5700)]"
      ]
     },
     "execution_count": 11,
     "metadata": {},
     "output_type": "execute_result"
    }
   ],
   "source": [
    "%%sql\n",
    "SELECT cloud_cover, COUNT(*) AS count \n",
    "FROM Weather_Data \n",
    "GROUP BY cloud_cover \n",
    "ORDER BY count DESC \n",
    "LIMIT 1;"
   ]
  },
  {
   "cell_type": "markdown",
   "id": "fa3a6ef4",
   "metadata": {},
   "source": [
    "### 3.3.5 Average UV Index by Location\n",
    "\n",
    "**Description:**\n",
    "This query calculates the average UV index in different locations (coastal, inland, mountain). It helps identify which regions experience higher UV exposure, which could be relevant for public health or climate analysis."
   ]
  },
  {
   "cell_type": "code",
   "execution_count": 12,
   "id": "466e795f",
   "metadata": {},
   "outputs": [
    {
     "name": "stdout",
     "output_type": "stream",
     "text": [
      " * sqlite:///weather_classification_insights.db\n",
      "Done.\n"
     ]
    },
    {
     "data": {
      "text/html": [
       "<table>\n",
       "    <thead>\n",
       "        <tr>\n",
       "            <th>location</th>\n",
       "            <th>avg_uv_index</th>\n",
       "        </tr>\n",
       "    </thead>\n",
       "    <tbody>\n",
       "        <tr>\n",
       "            <td>coastal</td>\n",
       "            <td>4.37</td>\n",
       "        </tr>\n",
       "        <tr>\n",
       "            <td>inland</td>\n",
       "            <td>3.47</td>\n",
       "        </tr>\n",
       "        <tr>\n",
       "            <td>mountain</td>\n",
       "            <td>3.41</td>\n",
       "        </tr>\n",
       "    </tbody>\n",
       "</table>"
      ],
      "text/plain": [
       "[('coastal', 4.37), ('inland', 3.47), ('mountain', 3.41)]"
      ]
     },
     "execution_count": 12,
     "metadata": {},
     "output_type": "execute_result"
    }
   ],
   "source": [
    "%%sql\n",
    "SELECT location, ROUND(AVG(uv_index), 2) AS avg_uv_index \n",
    "FROM Weather_Data \n",
    "GROUP BY location \n",
    "ORDER BY avg_uv_index DESC;"
   ]
  },
  {
   "cell_type": "markdown",
   "id": "1ebc0f81",
   "metadata": {},
   "source": [
    "### 3.3.6 Average Precipitation by Season and Weather Type\n",
    "\n",
    "**Description:**\n",
    "This detailed query breaks down average precipitation across combinations of seasons and weather types. It helps determine which combinations are associated with heavier or lighter rainfall."
   ]
  },
  {
   "cell_type": "code",
   "execution_count": 13,
   "id": "f6ec098d",
   "metadata": {},
   "outputs": [
    {
     "name": "stdout",
     "output_type": "stream",
     "text": [
      " * sqlite:///weather_classification_insights.db\n",
      "Done.\n"
     ]
    },
    {
     "data": {
      "text/html": [
       "<table>\n",
       "    <thead>\n",
       "        <tr>\n",
       "            <th>season</th>\n",
       "            <th>weather_type</th>\n",
       "            <th>avg_precipitation</th>\n",
       "        </tr>\n",
       "    </thead>\n",
       "    <tbody>\n",
       "        <tr>\n",
       "            <td>Winter</td>\n",
       "            <td>Snowy</td>\n",
       "            <td>76.57</td>\n",
       "        </tr>\n",
       "        <tr>\n",
       "            <td>Winter</td>\n",
       "            <td>Rainy</td>\n",
       "            <td>76.15</td>\n",
       "        </tr>\n",
       "        <tr>\n",
       "            <td>Autumn</td>\n",
       "            <td>Rainy</td>\n",
       "            <td>75.96</td>\n",
       "        </tr>\n",
       "        <tr>\n",
       "            <td>Spring</td>\n",
       "            <td>Rainy</td>\n",
       "            <td>75.81</td>\n",
       "        </tr>\n",
       "        <tr>\n",
       "            <td>Summer</td>\n",
       "            <td>Rainy</td>\n",
       "            <td>75.12</td>\n",
       "        </tr>\n",
       "        <tr>\n",
       "            <td>Autumn</td>\n",
       "            <td>Snowy</td>\n",
       "            <td>63.0</td>\n",
       "        </tr>\n",
       "        <tr>\n",
       "            <td>Summer</td>\n",
       "            <td>Snowy</td>\n",
       "            <td>57.41</td>\n",
       "        </tr>\n",
       "        <tr>\n",
       "            <td>Spring</td>\n",
       "            <td>Snowy</td>\n",
       "            <td>53.82</td>\n",
       "        </tr>\n",
       "        <tr>\n",
       "            <td>Summer</td>\n",
       "            <td>Cloudy</td>\n",
       "            <td>38.34</td>\n",
       "        </tr>\n",
       "        <tr>\n",
       "            <td>Winter</td>\n",
       "            <td>Cloudy</td>\n",
       "            <td>38.05</td>\n",
       "        </tr>\n",
       "        <tr>\n",
       "            <td>Spring</td>\n",
       "            <td>Cloudy</td>\n",
       "            <td>37.67</td>\n",
       "        </tr>\n",
       "        <tr>\n",
       "            <td>Autumn</td>\n",
       "            <td>Cloudy</td>\n",
       "            <td>36.97</td>\n",
       "        </tr>\n",
       "        <tr>\n",
       "            <td>Autumn</td>\n",
       "            <td>Sunny</td>\n",
       "            <td>19.39</td>\n",
       "        </tr>\n",
       "        <tr>\n",
       "            <td>Summer</td>\n",
       "            <td>Sunny</td>\n",
       "            <td>18.98</td>\n",
       "        </tr>\n",
       "        <tr>\n",
       "            <td>Spring</td>\n",
       "            <td>Sunny</td>\n",
       "            <td>17.49</td>\n",
       "        </tr>\n",
       "        <tr>\n",
       "            <td>Winter</td>\n",
       "            <td>Sunny</td>\n",
       "            <td>16.82</td>\n",
       "        </tr>\n",
       "    </tbody>\n",
       "</table>"
      ],
      "text/plain": [
       "[('Winter', 'Snowy', 76.57),\n",
       " ('Winter', 'Rainy', 76.15),\n",
       " ('Autumn', 'Rainy', 75.96),\n",
       " ('Spring', 'Rainy', 75.81),\n",
       " ('Summer', 'Rainy', 75.12),\n",
       " ('Autumn', 'Snowy', 63.0),\n",
       " ('Summer', 'Snowy', 57.41),\n",
       " ('Spring', 'Snowy', 53.82),\n",
       " ('Summer', 'Cloudy', 38.34),\n",
       " ('Winter', 'Cloudy', 38.05),\n",
       " ('Spring', 'Cloudy', 37.67),\n",
       " ('Autumn', 'Cloudy', 36.97),\n",
       " ('Autumn', 'Sunny', 19.39),\n",
       " ('Summer', 'Sunny', 18.98),\n",
       " ('Spring', 'Sunny', 17.49),\n",
       " ('Winter', 'Sunny', 16.82)]"
      ]
     },
     "execution_count": 13,
     "metadata": {},
     "output_type": "execute_result"
    }
   ],
   "source": [
    "%%sql\n",
    "SELECT season, weather_type, ROUND(AVG(precipitation), 2) AS avg_precipitation \n",
    "FROM Weather_Data \n",
    "GROUP BY season, weather_type \n",
    "ORDER BY avg_precipitation DESC;"
   ]
  },
  {
   "cell_type": "markdown",
   "id": "9b52ec0f",
   "metadata": {},
   "source": [
    "### 3.3.7 Average Wind Speed on Rainy Days vs Others\n",
    "\n",
    "**Description:**\n",
    "This query compares the average wind speed during rainy weather to other types of weather. It helps understand whether wind tends to be stronger or weaker when it's raining compared to clearer conditions."
   ]
  },
  {
   "cell_type": "code",
   "execution_count": 14,
   "id": "798ef7f8",
   "metadata": {},
   "outputs": [
    {
     "name": "stdout",
     "output_type": "stream",
     "text": [
      " * sqlite:///weather_classification_insights.db\n",
      "Done.\n"
     ]
    },
    {
     "data": {
      "text/html": [
       "<table>\n",
       "    <thead>\n",
       "        <tr>\n",
       "            <th>condition</th>\n",
       "            <th>avg_wind_speed</th>\n",
       "        </tr>\n",
       "    </thead>\n",
       "    <tbody>\n",
       "        <tr>\n",
       "            <td>Other</td>\n",
       "            <td>8.52</td>\n",
       "        </tr>\n",
       "        <tr>\n",
       "            <td>Rainy</td>\n",
       "            <td>13.82</td>\n",
       "        </tr>\n",
       "    </tbody>\n",
       "</table>"
      ],
      "text/plain": [
       "[('Other', 8.52), ('Rainy', 13.82)]"
      ]
     },
     "execution_count": 14,
     "metadata": {},
     "output_type": "execute_result"
    }
   ],
   "source": [
    "%%sql\n",
    "SELECT \n",
    "  CASE \n",
    "    WHEN weather_type = 'Rainy' THEN 'Rainy' \n",
    "    ELSE 'Other' \n",
    "  END AS condition, \n",
    "  ROUND(AVG(wind_speed), 2) AS avg_wind_speed \n",
    "FROM Weather_Data \n",
    "GROUP BY condition;"
   ]
  },
  {
   "cell_type": "markdown",
   "id": "2166525e",
   "metadata": {},
   "source": [
    "### 3.3.8 Season with Lowest Average Visibility and Its Weather Type\n",
    "\n",
    "**Description:**\n",
    "This query identifies the combination of season and weather type that results in the lowest average visibility. It is useful for understanding which conditions are most likely to impair visibility and potentially affect transportation or outdoor activities."
   ]
  },
  {
   "cell_type": "code",
   "execution_count": 15,
   "id": "f3da3dcd",
   "metadata": {},
   "outputs": [
    {
     "name": "stdout",
     "output_type": "stream",
     "text": [
      " * sqlite:///weather_classification_insights.db\n"
     ]
    },
    {
     "name": "stdout",
     "output_type": "stream",
     "text": [
      "Done.\n"
     ]
    },
    {
     "data": {
      "text/html": [
       "<table>\n",
       "    <thead>\n",
       "        <tr>\n",
       "            <th>season</th>\n",
       "            <th>weather_type</th>\n",
       "            <th>avg_visibility</th>\n",
       "        </tr>\n",
       "    </thead>\n",
       "    <tbody>\n",
       "        <tr>\n",
       "            <td>Winter</td>\n",
       "            <td>Snowy</td>\n",
       "            <td>2.97</td>\n",
       "        </tr>\n",
       "    </tbody>\n",
       "</table>"
      ],
      "text/plain": [
       "[('Winter', 'Snowy', 2.97)]"
      ]
     },
     "execution_count": 15,
     "metadata": {},
     "output_type": "execute_result"
    }
   ],
   "source": [
    "%%sql\n",
    "SELECT season, weather_type, ROUND(AVG(visibility), 2) AS avg_visibility \n",
    "FROM Weather_Data \n",
    "GROUP BY season, weather_type \n",
    "ORDER BY avg_visibility ASC \n",
    "LIMIT 1;"
   ]
  },
  {
   "cell_type": "markdown",
   "id": "6970a53a",
   "metadata": {},
   "source": [
    "### 3.3.9 Atmospheric Pressure by Location and Cloud Cover\n",
    "\n",
    "**Description:**\n",
    "This query explores how atmospheric pressure varies across different locations and cloud cover types. It can help highlight potential relationships between pressure systems and local weather conditions."
   ]
  },
  {
   "cell_type": "code",
   "execution_count": 16,
   "id": "8044ce71",
   "metadata": {},
   "outputs": [
    {
     "name": "stdout",
     "output_type": "stream",
     "text": [
      " * sqlite:///weather_classification_insights.db\n",
      "Done.\n"
     ]
    },
    {
     "data": {
      "text/html": [
       "<table>\n",
       "    <thead>\n",
       "        <tr>\n",
       "            <th>location</th>\n",
       "            <th>cloud_cover</th>\n",
       "            <th>avg_pressure</th>\n",
       "        </tr>\n",
       "    </thead>\n",
       "    <tbody>\n",
       "        <tr>\n",
       "            <td>mountain</td>\n",
       "            <td>clear</td>\n",
       "            <td>1020.04</td>\n",
       "        </tr>\n",
       "        <tr>\n",
       "            <td>inland</td>\n",
       "            <td>clear</td>\n",
       "            <td>1019.99</td>\n",
       "        </tr>\n",
       "        <tr>\n",
       "            <td>coastal</td>\n",
       "            <td>clear</td>\n",
       "            <td>1019.85</td>\n",
       "        </tr>\n",
       "        <tr>\n",
       "            <td>coastal</td>\n",
       "            <td>partly cloudy</td>\n",
       "            <td>1010.36</td>\n",
       "        </tr>\n",
       "        <tr>\n",
       "            <td>inland</td>\n",
       "            <td>partly cloudy</td>\n",
       "            <td>1006.62</td>\n",
       "        </tr>\n",
       "        <tr>\n",
       "            <td>mountain</td>\n",
       "            <td>partly cloudy</td>\n",
       "            <td>1006.48</td>\n",
       "        </tr>\n",
       "        <tr>\n",
       "            <td>coastal</td>\n",
       "            <td>overcast</td>\n",
       "            <td>1006.3</td>\n",
       "        </tr>\n",
       "        <tr>\n",
       "            <td>mountain</td>\n",
       "            <td>cloudy</td>\n",
       "            <td>1000.87</td>\n",
       "        </tr>\n",
       "        <tr>\n",
       "            <td>inland</td>\n",
       "            <td>cloudy</td>\n",
       "            <td>998.36</td>\n",
       "        </tr>\n",
       "        <tr>\n",
       "            <td>mountain</td>\n",
       "            <td>overcast</td>\n",
       "            <td>998.03</td>\n",
       "        </tr>\n",
       "        <tr>\n",
       "            <td>inland</td>\n",
       "            <td>overcast</td>\n",
       "            <td>997.51</td>\n",
       "        </tr>\n",
       "        <tr>\n",
       "            <td>coastal</td>\n",
       "            <td>cloudy</td>\n",
       "            <td>997.16</td>\n",
       "        </tr>\n",
       "    </tbody>\n",
       "</table>"
      ],
      "text/plain": [
       "[('mountain', 'clear', 1020.04),\n",
       " ('inland', 'clear', 1019.99),\n",
       " ('coastal', 'clear', 1019.85),\n",
       " ('coastal', 'partly cloudy', 1010.36),\n",
       " ('inland', 'partly cloudy', 1006.62),\n",
       " ('mountain', 'partly cloudy', 1006.48),\n",
       " ('coastal', 'overcast', 1006.3),\n",
       " ('mountain', 'cloudy', 1000.87),\n",
       " ('inland', 'cloudy', 998.36),\n",
       " ('mountain', 'overcast', 998.03),\n",
       " ('inland', 'overcast', 997.51),\n",
       " ('coastal', 'cloudy', 997.16)]"
      ]
     },
     "execution_count": 16,
     "metadata": {},
     "output_type": "execute_result"
    }
   ],
   "source": [
    "%%sql\n",
    "SELECT location, cloud_cover, ROUND(AVG(atm_pressure), 2) AS avg_pressure \n",
    "FROM Weather_Data \n",
    "GROUP BY location, cloud_cover \n",
    "ORDER BY avg_pressure DESC;"
   ]
  },
  {
   "cell_type": "markdown",
   "id": "9179e2c3",
   "metadata": {},
   "source": [
    "<a id=\"summary\"></a>\n",
    "\n",
    "## **3.4 Summary and Key Insights**\n",
    "\n",
    "After running the SQL queries, we summarize the key findings and insights to guide the next phases of the project."
   ]
  },
  {
   "cell_type": "markdown",
   "id": "8387d70f",
   "metadata": {},
   "source": [
    "### **Summary**\n",
    "\n",
    "This section presents a summary of the key findings from the weather dataset, analyzed using SQL queries in a SQLite environment. The goal was to understand how different atmospheric factors vary across seasons, weather types, and locations. Through structured queries, we uncovered several meaningful patterns related to temperature, precipitation, wind, UV exposure, and visibility.\n",
    "\n",
    "#### 1. Weather Type Distribution and Visibility\n",
    "\n",
    "The most frequent weather type is Snowy, followed by Cloudy, Rainy, and Sunny. Snowy conditions during Winter are associated with the lowest average visibility of 2.97 kilometers, suggesting reduced clarity and potentially hazardous conditions.\n",
    "\n",
    "#### 2. Seasonal Temperature and Precipitation Trends\n",
    "\n",
    "Spring has the highest average temperature at 25.35°C, slightly higher than Autumn and Summer. Winter remains the coldest season. In terms of precipitation, Winter experiences the highest levels, particularly during Snowy and Rainy conditions, each averaging over 76 mm.\n",
    "\n",
    "#### 3. Atmospheric and Environmental Factors\n",
    "\n",
    "Clear skies, especially in mountain and inland areas, are linked to higher average atmospheric pressure, indicating more stable weather conditions. In contrast, overcast and cloudy weather in coastal and inland locations are associated with lower pressures, which may indicate more unstable atmospheric activity.\n",
    "\n",
    "#### 4. Wind and UV Patterns by Condition and Location\n",
    "\n",
    "Rainy days record the highest average wind speed at 13.82 km/h, significantly more than other conditions. Coastal regions receive the highest average UV index at 4.37, indicating stronger solar radiation compared to inland and mountain regions.\n",
    "\n",
    "### **Conclusion**\n",
    "\n",
    "The SQL-driven exploration of the weather dataset reveals consistent patterns across various climate indicators. These insights provide a foundational understanding of how weather conditions shift across different seasons and geographies. They can inform local planning, environmental assessments, and further meteorological research.\n"
   ]
  },
  {
   "cell_type": "code",
   "execution_count": null,
   "id": "589571b9",
   "metadata": {},
   "outputs": [],
   "source": []
  }
 ],
 "metadata": {
  "kernelspec": {
   "display_name": "base",
   "language": "python",
   "name": "python3"
  },
  "language_info": {
   "codemirror_mode": {
    "name": "ipython",
    "version": 3
   },
   "file_extension": ".py",
   "mimetype": "text/x-python",
   "name": "python",
   "nbconvert_exporter": "python",
   "pygments_lexer": "ipython3",
   "version": "3.12.4"
  }
 },
 "nbformat": 4,
 "nbformat_minor": 5
}
